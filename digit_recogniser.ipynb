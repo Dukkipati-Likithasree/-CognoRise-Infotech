{
  "nbformat": 4,
  "nbformat_minor": 0,
  "metadata": {
    "colab": {
      "provenance": [],
      "authorship_tag": "ABX9TyM4GWgK2k85TJIgqoOg3duD",
      "include_colab_link": true
    },
    "kernelspec": {
      "name": "python3",
      "display_name": "Python 3"
    },
    "language_info": {
      "name": "python"
    }
  },
  "cells": [
    {
      "cell_type": "markdown",
      "metadata": {
        "id": "view-in-github",
        "colab_type": "text"
      },
      "source": [
        "<a href=\"https://colab.research.google.com/github/Dukkipati-Likithasree/-CognoRise-Infotech/blob/main/digit_recogniser.ipynb\" target=\"_parent\"><img src=\"https://colab.research.google.com/assets/colab-badge.svg\" alt=\"Open In Colab\"/></a>"
      ]
    },
    {
      "cell_type": "code",
      "execution_count": 1,
      "metadata": {
        "colab": {
          "base_uri": "https://localhost:8080/"
        },
        "id": "Iib6TkqbwU-B",
        "outputId": "732cce12-2815-4fea-8759-57b0e34e2b07"
      },
      "outputs": [
        {
          "output_type": "stream",
          "name": "stdout",
          "text": [
            "Model: \"sequential\"\n",
            "_________________________________________________________________\n",
            " Layer (type)                Output Shape              Param #   \n",
            "=================================================================\n",
            " conv2d (Conv2D)             (None, 26, 26, 32)        320       \n",
            "                                                                 \n",
            " max_pooling2d (MaxPooling2  (None, 13, 13, 32)        0         \n",
            " D)                                                              \n",
            "                                                                 \n",
            " conv2d_1 (Conv2D)           (None, 11, 11, 64)        18496     \n",
            "                                                                 \n",
            " max_pooling2d_1 (MaxPoolin  (None, 5, 5, 64)          0         \n",
            " g2D)                                                            \n",
            "                                                                 \n",
            " conv2d_2 (Conv2D)           (None, 3, 3, 64)          36928     \n",
            "                                                                 \n",
            " flatten (Flatten)           (None, 576)               0         \n",
            "                                                                 \n",
            " dense (Dense)               (None, 64)                36928     \n",
            "                                                                 \n",
            " dense_1 (Dense)             (None, 10)                650       \n",
            "                                                                 \n",
            "=================================================================\n",
            "Total params: 93322 (364.54 KB)\n",
            "Trainable params: 93322 (364.54 KB)\n",
            "Non-trainable params: 0 (0.00 Byte)\n",
            "_________________________________________________________________\n",
            "Epoch 1/5\n",
            "43/43 [==============================] - 5s 79ms/step - loss: 1.3599 - accuracy: 0.5733 - val_loss: nan - val_accuracy: 0.8241\n",
            "Epoch 2/5\n",
            "43/43 [==============================] - 3s 79ms/step - loss: 0.3957 - accuracy: 0.8840 - val_loss: nan - val_accuracy: 0.8910\n",
            "Epoch 3/5\n",
            "43/43 [==============================] - 3s 60ms/step - loss: 0.2573 - accuracy: 0.9254 - val_loss: nan - val_accuracy: 0.9142\n",
            "Epoch 4/5\n",
            "43/43 [==============================] - 3s 64ms/step - loss: 0.1958 - accuracy: 0.9414 - val_loss: nan - val_accuracy: 0.9535\n",
            "Epoch 5/5\n",
            "43/43 [==============================] - 3s 65ms/step - loss: 0.1291 - accuracy: 0.9647 - val_loss: nan - val_accuracy: 0.9433\n",
            "22/22 [==============================] - 0s 11ms/step - loss: nan - accuracy: 0.9433\n",
            "Test accuracy: 0.9433139562606812\n"
          ]
        }
      ],
      "source": [
        "import numpy as np\n",
        "import pandas as pd\n",
        "import tensorflow as tf\n",
        "from tensorflow.keras import layers, models\n",
        "from tensorflow.keras.utils import to_categorical\n",
        "\n",
        "# Load the dataset from CSV file\n",
        "dataset = pd.read_csv('/content/train.csv')\n",
        "\n",
        "# Extract labels and pixel values\n",
        "labels = dataset['label'].values\n",
        "pixels = dataset.drop('label', axis=1).values\n",
        "\n",
        "# Normalize pixel values to be between 0 and 1\n",
        "pixels = pixels.astype('float32') / 255.0\n",
        "\n",
        "# Reshape pixel values to 28x28 images\n",
        "images = pixels.reshape(-1, 28, 28, 1)\n",
        "\n",
        "# Convert labels to one-hot encoding\n",
        "one_hot_labels = to_categorical(labels, num_classes=10)\n",
        "\n",
        "# Split the dataset into train and test sets\n",
        "from sklearn.model_selection import train_test_split\n",
        "train_images, test_images, train_labels, test_labels = train_test_split(images, one_hot_labels, test_size=0.2, random_state=42)\n",
        "\n",
        "# Build the CNN model\n",
        "model = models.Sequential([\n",
        "    layers.Conv2D(32, (3, 3), activation='relu', input_shape=(28, 28, 1)),\n",
        "    layers.MaxPooling2D((2, 2)),\n",
        "    layers.Conv2D(64, (3, 3), activation='relu'),\n",
        "    layers.MaxPooling2D((2, 2)),\n",
        "    layers.Conv2D(64, (3, 3), activation='relu'),\n",
        "    layers.Flatten(),\n",
        "    layers.Dense(64, activation='relu'),\n",
        "    layers.Dense(10, activation='softmax')\n",
        "])\n",
        "\n",
        "# Compile the model\n",
        "model.compile(optimizer='adam',\n",
        "              loss='categorical_crossentropy',\n",
        "              metrics=['accuracy'])\n",
        "\n",
        "# Display the model summary\n",
        "model.summary()\n",
        "\n",
        "# Train the model\n",
        "history = model.fit(train_images, train_labels, epochs=5, batch_size=64, validation_data=(test_images, test_labels))\n",
        "\n",
        "# Evaluate the model\n",
        "test_loss, test_accuracy = model.evaluate(test_images, test_labels)\n",
        "print(f'Test accuracy: {test_accuracy}')\n"
      ]
    }
  ]
}