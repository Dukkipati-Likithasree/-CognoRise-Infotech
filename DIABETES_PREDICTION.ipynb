{
  "nbformat": 4,
  "nbformat_minor": 0,
  "metadata": {
    "colab": {
      "provenance": [],
      "toc_visible": true,
      "authorship_tag": "ABX9TyMaDDDyMepFYnZQR3w0VDq+",
      "include_colab_link": true
    },
    "kernelspec": {
      "name": "python3",
      "display_name": "Python 3"
    },
    "language_info": {
      "name": "python"
    }
  },
  "cells": [
    {
      "cell_type": "markdown",
      "metadata": {
        "id": "view-in-github",
        "colab_type": "text"
      },
      "source": [
        "<a href=\"https://colab.research.google.com/github/Dukkipati-Likithasree/-CognoRise-Infotech/blob/main/DIABETES_PREDICTION.ipynb\" target=\"_parent\"><img src=\"https://colab.research.google.com/assets/colab-badge.svg\" alt=\"Open In Colab\"/></a>"
      ]
    },
    {
      "cell_type": "code",
      "source": [
        "import pandas as pd\n",
        "import numpy as np\n",
        "from sklearn.model_selection import train_test_split, GridSearchCV\n",
        "from sklearn.ensemble import AdaBoostClassifier\n",
        "from sklearn.metrics import accuracy_score, classification_report, precision_score, recall_score, f1_score, roc_auc_score\n",
        "from sklearn.preprocessing import LabelEncoder, StandardScaler\n",
        "from sklearn.impute import SimpleImputer\n",
        "\n",
        "# Load the dataset\n",
        "data = pd.read_csv(\"diabetes_prediction_dataset.csv\")\n",
        "\n",
        "# Data Preprocessing\n",
        "X = data.drop(columns=['diabetes'])\n",
        "y = data['diabetes']\n",
        "\n",
        "# Handling missing values\n",
        "imputer = SimpleImputer(strategy='mean')\n",
        "X_imputed = imputer.fit_transform(X.select_dtypes(include=['float64', 'int64']))\n",
        "\n",
        "# Encoding categorical features\n",
        "categorical_features = X.select_dtypes(include=['object']).columns.tolist()\n",
        "X_categorical = pd.get_dummies(X[categorical_features])\n",
        "\n",
        "# Combine imputed numeric data with encoded categorical data\n",
        "X_processed = np.hstack((X_imputed, X_categorical))\n",
        "\n",
        "# Split the dataset into training and testing sets\n",
        "X_train, X_test, y_train, y_test = train_test_split(X_processed, y, test_size=0.2, random_state=42)\n",
        "\n",
        "# Feature Scaling\n",
        "scaler = StandardScaler()\n",
        "X_train_scaled = scaler.fit_transform(X_train)\n",
        "X_test_scaled = scaler.transform(X_test)\n",
        "\n",
        "# Model Training: AdaBoost with Grid Search for Hyperparameter Tuning\n",
        "param_grid = {\n",
        "    'n_estimators': [50, 100, 200],\n",
        "    'learning_rate': [0.01, 0.1, 1.0]\n",
        "}\n",
        "\n",
        "print(\"**AdaBoost Classifier**\")\n",
        "ada_boost = AdaBoostClassifier()\n",
        "grid_search = GridSearchCV(ada_boost, param_grid, cv=5, scoring='accuracy')\n",
        "grid_search.fit(X_train_scaled, y_train)\n",
        "best_ada_boost = grid_search.best_estimator_\n",
        "\n",
        "# Evaluation\n",
        "def evaluate_model(model, X_test, y_test):\n",
        "    y_pred = model.predict(X_test)\n",
        "    accuracy = accuracy_score(y_test, y_pred)\n",
        "    precision = precision_score(y_test, y_pred)\n",
        "    recall = recall_score(y_test, y_pred)\n",
        "    f1 = f1_score(y_test, y_pred)\n",
        "    roc_auc = roc_auc_score(y_test, y_pred)\n",
        "\n",
        "    print(\"Model Results:\")\n",
        "    print(f\"Accuracy: {accuracy:.4f}\")\n",
        "    print(f\"Precision: {precision:.4f}\")\n",
        "    print(f\"Recall: {recall:.4f}\")\n",
        "    print(f\"F1-Score: {f1:.4f}\")\n",
        "    print(f\"ROC-AUC: {roc_auc:.4f}\")\n",
        "\n",
        "print(\"**Evaluation on Test Data**\")\n",
        "evaluate_model(best_ada_boost, X_test_scaled, y_test)\n"
      ],
      "metadata": {
        "colab": {
          "base_uri": "https://localhost:8080/"
        },
        "id": "1HvoGGzhf7ja",
        "outputId": "ce94e88e-869b-481c-9b47-369a44126f89"
      },
      "execution_count": null,
      "outputs": [
        {
          "output_type": "stream",
          "name": "stdout",
          "text": [
            "**AdaBoost Classifier**\n",
            "**Evaluation on Test Data**\n",
            "Model Results:\n",
            "Accuracy: 0.9723\n",
            "Precision: 0.9730\n",
            "Recall: 0.6950\n",
            "F1-Score: 0.8108\n",
            "ROC-AUC: 0.8466\n"
          ]
        }
      ]
    }
  ]
}